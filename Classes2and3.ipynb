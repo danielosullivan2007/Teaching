{
  "nbformat": 4,
  "nbformat_minor": 0,
  "metadata": {
    "colab": {
      "name": "Class 2.ipynb",
      "version": "0.3.2",
      "provenance": [],
      "collapsed_sections": [],
      "toc_visible": true,
      "include_colab_link": true
    },
    "kernelspec": {
      "name": "python3",
      "display_name": "Python 3"
    },
    "accelerator": "GPU"
  },
  "cells": [
    {
      "cell_type": "markdown",
      "metadata": {
        "id": "view-in-github",
        "colab_type": "text"
      },
      "source": [
        "<a href=\"https://colab.research.google.com/github/danielosullivan2007/Teaching/blob/master/Classes2and3.ipynb\" target=\"_parent\"><img src=\"https://colab.research.google.com/assets/colab-badge.svg\" alt=\"Open In Colab\"/></a>"
      ]
    },
    {
      "metadata": {
        "trusted": true,
        "id": "oFWe-mv10nPS",
        "colab_type": "text"
      },
      "cell_type": "markdown",
      "source": [
        " # TODAYS TOPICS\n",
        "\n",
        "## Python \n",
        "***\n",
        "\n",
        "-  List Comprehension **Looping over lists**\n",
        "-  Lookup tables aka. **Dictionaries**\n",
        "-  Making your own functions aka. **Define**\n",
        "-  What are Python objects?\n",
        "\n",
        "***\n",
        " \n",
        "## Pandas\n",
        "\n",
        "***\n",
        "-  Reading Data\n",
        "-  Basic Operations\n",
        "-  Summarizing (.head(), .tail(), .describe(), .value_counts(), .nunique() )\n",
        "-  \"SELECT WHERE\" aka. Boolean indexing\n",
        "- Aggregating Data \n",
        "- The apply function\n",
        "***\n",
        "\n",
        "\n"
      ]
    },
    {
      "metadata": {
        "id": "BVTClg0I1KTA",
        "colab_type": "text"
      },
      "cell_type": "markdown",
      "source": [
        "#Core Python"
      ]
    },
    {
      "metadata": {
        "id": "F4kB6R8TYD5F",
        "colab_type": "code",
        "outputId": "c1572896-669f-48c1-8bc9-164251836192",
        "colab": {
          "base_uri": "https://localhost:8080/",
          "height": 66
        }
      },
      "cell_type": "code",
      "source": [
        "for i in \"TOM\":\n",
        "    print (i)"
      ],
      "execution_count": 0,
      "outputs": [
        {
          "output_type": "stream",
          "text": [
            "T\n",
            "O\n",
            "M\n"
          ],
          "name": "stdout"
        }
      ]
    },
    {
      "metadata": {
        "id": "oZbUWnNm0nPc",
        "colab_type": "text"
      },
      "cell_type": "markdown",
      "source": [
        "## List Comprehension\n",
        "-  A concise way of looping"
      ]
    },
    {
      "metadata": {
        "trusted": true,
        "id": "jep7Lk3V0nPi",
        "colab_type": "code",
        "outputId": "00686334-b88b-43d6-f791-0cfb982da81a",
        "colab": {
          "base_uri": "https://localhost:8080/",
          "height": 98
        }
      },
      "cell_type": "code",
      "source": [
        "my_list = [] #CALLED INITIALISATION. CREATES AN EMPTY CONTAINER TO STUFF INTO \n",
        "\n",
        "#[print (i) for i in range(1,10)]\n",
        "\n",
        "letters = [\"a\", \"b\", \"c\", \"d\", \"e\", \"f\", \"g\"]\n",
        "\n",
        "[print(letters[i]) for i in range(len(letters[0:4]))]\n",
        "\n",
        "#[print([i]) for i in (letters)]\n",
        "\n"
      ],
      "execution_count": 0,
      "outputs": [
        {
          "output_type": "stream",
          "text": [
            "a\n",
            "b\n",
            "c\n",
            "d\n"
          ],
          "name": "stdout"
        },
        {
          "output_type": "execute_result",
          "data": {
            "text/plain": [
              "[None, None, None, None]"
            ]
          },
          "metadata": {
            "tags": []
          },
          "execution_count": 72
        }
      ]
    },
    {
      "metadata": {
        "trusted": true,
        "id": "J8x5OELN0nQL",
        "colab_type": "code",
        "outputId": "4abdb397-2d2c-4302-d667-1a409c8e0910",
        "colab": {
          "base_uri": "https://localhost:8080/",
          "height": 34
        }
      },
      "cell_type": "code",
      "source": [
        "#[my_list.(letters[i]) for i in range(len(letters)) if i >4]\n",
        "\n",
        "#[(i, j) for i, j in enumerate(letters)]\n",
        "my_list"
      ],
      "execution_count": 0,
      "outputs": [
        {
          "output_type": "execute_result",
          "data": {
            "text/plain": [
              "['f', 'g', 'f', 'g', 'f', 'g', 'f', 'g']"
            ]
          },
          "metadata": {
            "tags": []
          },
          "execution_count": 79
        }
      ]
    },
    {
      "metadata": {
        "id": "o_k90XFX0nQk",
        "colab_type": "text"
      },
      "cell_type": "markdown",
      "source": [
        "## Dictionaries\n",
        "-  Creating a lookup table in Python"
      ]
    },
    {
      "metadata": {
        "trusted": true,
        "code_folding": [],
        "id": "0FeJq4Kx0nQt",
        "colab_type": "code",
        "outputId": "1b697862-c39b-4ca0-8018-581a2a3e1ba2",
        "colab": {
          "base_uri": "https://localhost:8080/",
          "height": 34
        }
      },
      "cell_type": "code",
      "source": [
        "dict1 = {10131:\"banana\",\n",
        "        10128: \"apple\", \n",
        "        30401: \"pear\",\n",
        "        80970: \"orange\",\n",
        "        81111: \"pineapple\"\n",
        "            }\n",
        "\n",
        "dict1.keys()\n"
      ],
      "execution_count": 0,
      "outputs": [
        {
          "output_type": "execute_result",
          "data": {
            "text/plain": [
              "[10131, 10128, 30401, 80970, 81111]"
            ]
          },
          "metadata": {
            "tags": []
          },
          "execution_count": 84
        }
      ]
    },
    {
      "metadata": {
        "trusted": true,
        "id": "sPRr6K2B0nRT",
        "colab_type": "code",
        "outputId": "f9201cc1-4262-4c0d-8018-16be9b029440",
        "colab": {
          "base_uri": "https://localhost:8080/",
          "height": 34
        }
      },
      "cell_type": "code",
      "source": [
        "list1 = [1,2,3]\n",
        "list2 = [\"a\", \"b\", \"c\"]\n",
        "\n",
        "together =dict(zip(list1, list2))\n",
        "together\n",
        "\n",
        "a=(zip(list1, list2))\n",
        "a\n"
      ],
      "execution_count": 4,
      "outputs": [
        {
          "output_type": "execute_result",
          "data": {
            "text/plain": [
              "<zip at 0x7ffa0d339e48>"
            ]
          },
          "metadata": {
            "tags": []
          },
          "execution_count": 4
        }
      ]
    },
    {
      "metadata": {
        "id": "rw4ZaJ0C0nRu",
        "colab_type": "text"
      },
      "cell_type": "markdown",
      "source": [
        "## Define\n",
        "- Make your own functions and routines"
      ]
    },
    {
      "metadata": {
        "trusted": true,
        "id": "4QGcJn720nR0",
        "colab_type": "code",
        "colab": {}
      },
      "cell_type": "code",
      "source": [
        "def my_func(number):\n",
        "    out = number*number\n",
        "    return out"
      ],
      "execution_count": 0,
      "outputs": []
    },
    {
      "metadata": {
        "trusted": true,
        "id": "nM7CiOiU0nSF",
        "colab_type": "code",
        "colab": {}
      },
      "cell_type": "code",
      "source": [
        "def list_generator(number):\n",
        "    li=[]  #initialize list\n",
        "    for i in range(number):\n",
        "        li.append(i)\n",
        "    return li"
      ],
      "execution_count": 0,
      "outputs": []
    },
    {
      "metadata": {
        "trusted": true,
        "id": "ETDOsNwe0nSU",
        "colab_type": "code",
        "colab": {}
      },
      "cell_type": "code",
      "source": [
        "x = list_generator(90)\n",
        "for i in x:\n",
        "  print(i)"
      ],
      "execution_count": 0,
      "outputs": []
    },
    {
      "metadata": {
        "id": "ieSwlskE0nSo",
        "colab_type": "text"
      },
      "cell_type": "markdown",
      "source": [
        "## Object Orientation in Python\n",
        "-  What are objects?"
      ]
    },
    {
      "metadata": {
        "trusted": true,
        "id": "pcrWi0no0nSu",
        "colab_type": "code",
        "colab": {}
      },
      "cell_type": "code",
      "source": [
        "class MyClass:\n",
        "\n",
        "    first_name = \"Daniel\"\n",
        "    second_name = \"O'Sullivan\"\n",
        " \n",
        "    def blah(self):\n",
        "            [print('It even got the apostrophe in my name correct :)') for i in range(self)]\n",
        "    def blah2(self):\n",
        "            [print('THis should work') for i in range(self)]       \n",
        "            \n"
      ],
      "execution_count": 0,
      "outputs": []
    },
    {
      "metadata": {
        "id": "p8yVORnj6YS8",
        "colab_type": "code",
        "outputId": "06d637e7-7c27-4e7c-baab-d456d57f8a88",
        "colab": {
          "base_uri": "https://localhost:8080/",
          "height": 66
        }
      },
      "cell_type": "code",
      "source": [
        "print (MyClass.first_name)\n",
        "print (MyClass.second_name)\n",
        "MyClass.blah2\n",
        "\n",
        "\n",
        "a= MyClass\n",
        "a.first_name"
      ],
      "execution_count": 0,
      "outputs": [
        {
          "output_type": "stream",
          "text": [
            "Daniel\n",
            "O'Sullivan\n"
          ],
          "name": "stdout"
        },
        {
          "output_type": "execute_result",
          "data": {
            "text/plain": [
              "'Daniel'"
            ]
          },
          "metadata": {
            "tags": []
          },
          "execution_count": 109
        }
      ]
    },
    {
      "metadata": {
        "id": "ao_9YHH30nS2",
        "colab_type": "text"
      },
      "cell_type": "markdown",
      "source": [
        "\n",
        "# Pandas\n"
      ]
    },
    {
      "metadata": {
        "id": "qNOVcp6FS0mA",
        "colab_type": "text"
      },
      "cell_type": "markdown",
      "source": [
        "-  First import data \n",
        "- w = pd.read_csv(\"wine.csv\")"
      ]
    },
    {
      "metadata": {
        "trusted": true,
        "id": "d7QNFlJP0nS4",
        "colab_type": "code",
        "colab": {
          "resources": {
            "http://localhost:8080/nbextensions/google.colab/files.js": {
              "data": "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",
              "ok": true,
              "headers": [
                [
                  "content-type",
                  "application/javascript"
                ]
              ],
              "status": 200,
              "status_text": "OK"
            }
          },
          "base_uri": "https://localhost:8080/",
          "height": 89
        },
        "outputId": "cbed2272-12df-40be-ef6f-3b226066b8b6"
      },
      "cell_type": "code",
      "source": [
        "from google.colab import files\n",
        "\n",
        "uploaded = files.upload()\n",
        "\n",
        "for fn in uploaded.keys():\n",
        "  print('User uploaded file \"{name}\" with length {length} bytes'.format(\n",
        "      name=fn, length=len(uploaded[fn])))\n",
        "\n",
        "\n"
      ],
      "execution_count": 4,
      "outputs": [
        {
          "output_type": "display_data",
          "data": {
            "text/html": [
              "\n",
              "     <input type=\"file\" id=\"files-70aa8ded-2468-428d-8d0d-6ce654942f38\" name=\"files[]\" multiple disabled />\n",
              "     <output id=\"result-70aa8ded-2468-428d-8d0d-6ce654942f38\">\n",
              "      Upload widget is only available when the cell has been executed in the\n",
              "      current browser session. Please rerun this cell to enable.\n",
              "      </output>\n",
              "      <script src=\"/nbextensions/google.colab/files.js\"></script> "
            ],
            "text/plain": [
              "<IPython.core.display.HTML object>"
            ]
          },
          "metadata": {
            "tags": []
          }
        },
        {
          "output_type": "stream",
          "text": [
            "Saving winequal.csv to winequal.csv\n",
            "User uploaded file \"winequal.csv\" with length 85743 bytes\n"
          ],
          "name": "stdout"
        }
      ]
    },
    {
      "metadata": {
        "id": "5ppfKeLvKRp3",
        "colab_type": "text"
      },
      "cell_type": "markdown",
      "source": [
        "## Importing CSVs\n",
        "-  Import and view first few rows"
      ]
    },
    {
      "metadata": {
        "trusted": true,
        "id": "a-JkJXft0nTC",
        "colab_type": "code",
        "colab": {}
      },
      "cell_type": "code",
      "source": [
        "import pandas as pd\n",
        "w = pd.read_csv(\"winequal.csv\")\n",
        "\n"
      ],
      "execution_count": 0,
      "outputs": []
    },
    {
      "metadata": {
        "id": "EgjouEizKCfJ",
        "colab_type": "text"
      },
      "cell_type": "markdown",
      "source": [
        "## Basic Details of Dataset"
      ]
    },
    {
      "metadata": {
        "id": "bnxaAoMWGbsQ",
        "colab_type": "code",
        "colab": {}
      },
      "cell_type": "code",
      "source": [
        "wine.columns\n",
        "#[i for i in wine.columns]"
      ],
      "execution_count": 0,
      "outputs": []
    },
    {
      "metadata": {
        "trusted": true,
        "id": "ml94yV960nTL",
        "colab_type": "code",
        "colab": {}
      },
      "cell_type": "code",
      "source": [
        "w.quality.nunique()\n",
        "#wine.Wine.value_counts()"
      ],
      "execution_count": 0,
      "outputs": []
    },
    {
      "metadata": {
        "id": "jxnssHRGF7Zq",
        "colab_type": "code",
        "colab": {}
      },
      "cell_type": "code",
      "source": [
        "w.quality.drop_duplicates()"
      ],
      "execution_count": 0,
      "outputs": []
    },
    {
      "metadata": {
        "id": "0z_Gsj4XQNk6",
        "colab_type": "code",
        "colab": {}
      },
      "cell_type": "code",
      "source": [
        "w.corr()"
      ],
      "execution_count": 0,
      "outputs": []
    },
    {
      "metadata": {
        "id": "YB6lmH0QSg5h",
        "colab_type": "text"
      },
      "cell_type": "markdown",
      "source": [
        "-- **WARNING:** In the next operation, pandas returns a shadow copy\n",
        "if you want to keep the result, either assign it with equals, or use(inplace=True)\n"
      ]
    },
    {
      "metadata": {
        "id": "tDSh28HzMGMr",
        "colab_type": "code",
        "colab": {}
      },
      "cell_type": "code",
      "source": [
        "w.drop('citric.acid', axis = 1) #axis =0 is rows, axis =1 is columns"
      ],
      "execution_count": 0,
      "outputs": []
    },
    {
      "metadata": {
        "id": "1SDEhrcLaS6c",
        "colab_type": "text"
      },
      "cell_type": "markdown",
      "source": [
        "## Indexing (a recap)"
      ]
    },
    {
      "metadata": {
        "id": "4iU7INl3adYW",
        "colab_type": "code",
        "outputId": "9c5e1e46-8334-45c2-c1e1-7688ba3f8d2f",
        "colab": {
          "base_uri": "https://localhost:8080/",
          "height": 165
        }
      },
      "cell_type": "code",
      "source": [
        "w.iloc[0,1]"
      ],
      "execution_count": 2,
      "outputs": [
        {
          "output_type": "error",
          "ename": "NameError",
          "evalue": "ignored",
          "traceback": [
            "\u001b[0;31m---------------------------------------------------------------------------\u001b[0m",
            "\u001b[0;31mNameError\u001b[0m                                 Traceback (most recent call last)",
            "\u001b[0;32m<ipython-input-2-e41cf8e0460f>\u001b[0m in \u001b[0;36m<module>\u001b[0;34m()\u001b[0m\n\u001b[0;32m----> 1\u001b[0;31m \u001b[0mw\u001b[0m\u001b[0;34m.\u001b[0m\u001b[0miloc\u001b[0m\u001b[0;34m[\u001b[0m\u001b[0;36m0\u001b[0m\u001b[0;34m,\u001b[0m\u001b[0;36m1\u001b[0m\u001b[0;34m]\u001b[0m\u001b[0;34m\u001b[0m\u001b[0;34m\u001b[0m\u001b[0m\n\u001b[0m",
            "\u001b[0;31mNameError\u001b[0m: name 'w' is not defined"
          ]
        }
      ]
    },
    {
      "metadata": {
        "id": "6-yGsZOEaiL-",
        "colab_type": "code",
        "colab": {}
      },
      "cell_type": "code",
      "source": [
        "w.loc[:,'quality'].head()"
      ],
      "execution_count": 0,
      "outputs": []
    },
    {
      "metadata": {
        "id": "FdNeugmzap77",
        "colab_type": "code",
        "colab": {}
      },
      "cell_type": "code",
      "source": [
        "w['quality'].head()"
      ],
      "execution_count": 0,
      "outputs": []
    },
    {
      "metadata": {
        "id": "Ej00IpGYawZL",
        "colab_type": "code",
        "outputId": "f17a2133-351a-4ac7-f3ad-b6743eb82bc9",
        "colab": {
          "base_uri": "https://localhost:8080/",
          "height": 119
        }
      },
      "cell_type": "code",
      "source": [
        "w.quality.head() #doesn't work if the column name has spaces in it"
      ],
      "execution_count": 0,
      "outputs": [
        {
          "output_type": "execute_result",
          "data": {
            "text/plain": [
              "0    5\n",
              "1    5\n",
              "2    5\n",
              "3    6\n",
              "4    5\n",
              "Name: quality, dtype: int64"
            ]
          },
          "metadata": {
            "tags": []
          },
          "execution_count": 119
        }
      ]
    },
    {
      "metadata": {
        "id": "i5hdE5hk0nT9",
        "colab_type": "text"
      },
      "cell_type": "markdown",
      "source": [
        "## Boolean Indexing\n",
        "-  Filtering your dataset"
      ]
    },
    {
      "metadata": {
        "trusted": true,
        "id": "7FVIQwPm0nUC",
        "colab_type": "code",
        "outputId": "946eb3ac-12c2-4300-b994-d37e7b53d272",
        "colab": {
          "base_uri": "https://localhost:8080/",
          "height": 317
        }
      },
      "cell_type": "code",
      "source": [
        "w[w['quality'] == 3].describe()\n",
        "w[w['quality'] == 8].describe()\n"
      ],
      "execution_count": 0,
      "outputs": [
        {
          "output_type": "execute_result",
          "data": {
            "text/html": [
              "<div>\n",
              "<style scoped>\n",
              "    .dataframe tbody tr th:only-of-type {\n",
              "        vertical-align: middle;\n",
              "    }\n",
              "\n",
              "    .dataframe tbody tr th {\n",
              "        vertical-align: top;\n",
              "    }\n",
              "\n",
              "    .dataframe thead th {\n",
              "        text-align: right;\n",
              "    }\n",
              "</style>\n",
              "<table border=\"1\" class=\"dataframe\">\n",
              "  <thead>\n",
              "    <tr style=\"text-align: right;\">\n",
              "      <th></th>\n",
              "      <th>fixed.acidity</th>\n",
              "      <th>volatile.acidity</th>\n",
              "      <th>citric.acid</th>\n",
              "      <th>residual.sugar</th>\n",
              "      <th>chlorides</th>\n",
              "      <th>free.sulfur.dioxide</th>\n",
              "      <th>total.sulfur.dioxide</th>\n",
              "      <th>density</th>\n",
              "      <th>pH</th>\n",
              "      <th>sulphates</th>\n",
              "      <th>alcohol</th>\n",
              "      <th>quality</th>\n",
              "    </tr>\n",
              "  </thead>\n",
              "  <tbody>\n",
              "    <tr>\n",
              "      <th>count</th>\n",
              "      <td>18.000000</td>\n",
              "      <td>18.000000</td>\n",
              "      <td>18.000000</td>\n",
              "      <td>18.000000</td>\n",
              "      <td>18.000000</td>\n",
              "      <td>18.000000</td>\n",
              "      <td>18.000000</td>\n",
              "      <td>18.000000</td>\n",
              "      <td>18.000000</td>\n",
              "      <td>18.000000</td>\n",
              "      <td>18.000000</td>\n",
              "      <td>18.0</td>\n",
              "    </tr>\n",
              "    <tr>\n",
              "      <th>mean</th>\n",
              "      <td>8.566667</td>\n",
              "      <td>0.423333</td>\n",
              "      <td>0.391111</td>\n",
              "      <td>2.577778</td>\n",
              "      <td>0.068444</td>\n",
              "      <td>13.277778</td>\n",
              "      <td>33.444444</td>\n",
              "      <td>0.995212</td>\n",
              "      <td>3.267222</td>\n",
              "      <td>0.767778</td>\n",
              "      <td>12.094444</td>\n",
              "      <td>8.0</td>\n",
              "    </tr>\n",
              "    <tr>\n",
              "      <th>std</th>\n",
              "      <td>2.119656</td>\n",
              "      <td>0.144914</td>\n",
              "      <td>0.199526</td>\n",
              "      <td>1.295038</td>\n",
              "      <td>0.011678</td>\n",
              "      <td>11.155613</td>\n",
              "      <td>25.433240</td>\n",
              "      <td>0.002378</td>\n",
              "      <td>0.200640</td>\n",
              "      <td>0.115379</td>\n",
              "      <td>1.224011</td>\n",
              "      <td>0.0</td>\n",
              "    </tr>\n",
              "    <tr>\n",
              "      <th>min</th>\n",
              "      <td>5.000000</td>\n",
              "      <td>0.260000</td>\n",
              "      <td>0.030000</td>\n",
              "      <td>1.400000</td>\n",
              "      <td>0.044000</td>\n",
              "      <td>3.000000</td>\n",
              "      <td>12.000000</td>\n",
              "      <td>0.990800</td>\n",
              "      <td>2.880000</td>\n",
              "      <td>0.630000</td>\n",
              "      <td>9.800000</td>\n",
              "      <td>8.0</td>\n",
              "    </tr>\n",
              "    <tr>\n",
              "      <th>25%</th>\n",
              "      <td>7.250000</td>\n",
              "      <td>0.335000</td>\n",
              "      <td>0.302500</td>\n",
              "      <td>1.800000</td>\n",
              "      <td>0.062000</td>\n",
              "      <td>6.000000</td>\n",
              "      <td>16.000000</td>\n",
              "      <td>0.994175</td>\n",
              "      <td>3.162500</td>\n",
              "      <td>0.690000</td>\n",
              "      <td>11.325000</td>\n",
              "      <td>8.0</td>\n",
              "    </tr>\n",
              "    <tr>\n",
              "      <th>50%</th>\n",
              "      <td>8.250000</td>\n",
              "      <td>0.370000</td>\n",
              "      <td>0.420000</td>\n",
              "      <td>2.100000</td>\n",
              "      <td>0.070500</td>\n",
              "      <td>7.500000</td>\n",
              "      <td>21.500000</td>\n",
              "      <td>0.994940</td>\n",
              "      <td>3.230000</td>\n",
              "      <td>0.740000</td>\n",
              "      <td>12.150000</td>\n",
              "      <td>8.0</td>\n",
              "    </tr>\n",
              "    <tr>\n",
              "      <th>75%</th>\n",
              "      <td>10.225000</td>\n",
              "      <td>0.472500</td>\n",
              "      <td>0.530000</td>\n",
              "      <td>2.600000</td>\n",
              "      <td>0.075500</td>\n",
              "      <td>16.500000</td>\n",
              "      <td>43.000000</td>\n",
              "      <td>0.997200</td>\n",
              "      <td>3.350000</td>\n",
              "      <td>0.820000</td>\n",
              "      <td>12.875000</td>\n",
              "      <td>8.0</td>\n",
              "    </tr>\n",
              "    <tr>\n",
              "      <th>max</th>\n",
              "      <td>12.600000</td>\n",
              "      <td>0.850000</td>\n",
              "      <td>0.720000</td>\n",
              "      <td>6.400000</td>\n",
              "      <td>0.086000</td>\n",
              "      <td>42.000000</td>\n",
              "      <td>88.000000</td>\n",
              "      <td>0.998800</td>\n",
              "      <td>3.720000</td>\n",
              "      <td>1.100000</td>\n",
              "      <td>14.000000</td>\n",
              "      <td>8.0</td>\n",
              "    </tr>\n",
              "  </tbody>\n",
              "</table>\n",
              "</div>"
            ],
            "text/plain": [
              "       fixed.acidity  volatile.acidity  citric.acid  residual.sugar  \\\n",
              "count      18.000000         18.000000    18.000000       18.000000   \n",
              "mean        8.566667          0.423333     0.391111        2.577778   \n",
              "std         2.119656          0.144914     0.199526        1.295038   \n",
              "min         5.000000          0.260000     0.030000        1.400000   \n",
              "25%         7.250000          0.335000     0.302500        1.800000   \n",
              "50%         8.250000          0.370000     0.420000        2.100000   \n",
              "75%        10.225000          0.472500     0.530000        2.600000   \n",
              "max        12.600000          0.850000     0.720000        6.400000   \n",
              "\n",
              "       chlorides  free.sulfur.dioxide  total.sulfur.dioxide    density  \\\n",
              "count  18.000000            18.000000             18.000000  18.000000   \n",
              "mean    0.068444            13.277778             33.444444   0.995212   \n",
              "std     0.011678            11.155613             25.433240   0.002378   \n",
              "min     0.044000             3.000000             12.000000   0.990800   \n",
              "25%     0.062000             6.000000             16.000000   0.994175   \n",
              "50%     0.070500             7.500000             21.500000   0.994940   \n",
              "75%     0.075500            16.500000             43.000000   0.997200   \n",
              "max     0.086000            42.000000             88.000000   0.998800   \n",
              "\n",
              "              pH  sulphates    alcohol  quality  \n",
              "count  18.000000  18.000000  18.000000     18.0  \n",
              "mean    3.267222   0.767778  12.094444      8.0  \n",
              "std     0.200640   0.115379   1.224011      0.0  \n",
              "min     2.880000   0.630000   9.800000      8.0  \n",
              "25%     3.162500   0.690000  11.325000      8.0  \n",
              "50%     3.230000   0.740000  12.150000      8.0  \n",
              "75%     3.350000   0.820000  12.875000      8.0  \n",
              "max     3.720000   1.100000  14.000000      8.0  "
            ]
          },
          "metadata": {
            "tags": []
          },
          "execution_count": 87
        }
      ]
    },
    {
      "metadata": {
        "id": "yJhLs8icNAj2",
        "colab_type": "text"
      },
      "cell_type": "markdown",
      "source": [
        "## Aggregating Data"
      ]
    },
    {
      "metadata": {
        "id": "bXmMGj9OIj4x",
        "colab_type": "code",
        "outputId": "76e034f2-0ffd-4e1b-ca5b-ecf67d551bce",
        "colab": {
          "base_uri": "https://localhost:8080/",
          "height": 374
        }
      },
      "cell_type": "code",
      "source": [
        "averages = w.groupby('quality').mean()\n",
        "averages['alcohol'].plot(kind = 'bar')\n"
      ],
      "execution_count": 0,
      "outputs": [
        {
          "output_type": "execute_result",
          "data": {
            "text/plain": [
              "<matplotlib.axes._subplots.AxesSubplot at 0x7f82d1f40e80>"
            ]
          },
          "metadata": {
            "tags": []
          },
          "execution_count": 95
        },
        {
          "output_type": "display_data",
          "data": {
            "image/png": "[encoded data removed]",
            "text/plain": [
              "<Figure size 576x396 with 1 Axes>"
            ]
          },
          "metadata": {
            "tags": []
          }
        }
      ]
    },
    {
      "metadata": {
        "id": "OPd7V3LxKaxZ",
        "colab_type": "text"
      },
      "cell_type": "markdown",
      "source": [
        "## The apply operator\n",
        "- a faster way of \"looping\""
      ]
    },
    {
      "metadata": {
        "id": "BVxTtikjUldl",
        "colab_type": "code",
        "outputId": "967f8d8d-e586-4e4f-bd25-202b4835e5ff",
        "colab": {
          "base_uri": "https://localhost:8080/",
          "height": 51
        }
      },
      "cell_type": "code",
      "source": [
        "#%%timeit\n",
        "\n",
        "import numpy as np #numpy is a mathematical package\n",
        "w.pH.apply(np.exp).head()\n"
      ],
      "execution_count": 0,
      "outputs": [
        {
          "output_type": "stream",
          "text": [
            "The slowest run took 4.40 times longer than the fastest. This could mean that an intermediate result is being cached.\n",
            "10000 loops, best of 3: 162 µs per loop\n"
          ],
          "name": "stdout"
        }
      ]
    },
    {
      "metadata": {
        "id": "HHbuPNAnVBuQ",
        "colab_type": "text"
      },
      "cell_type": "markdown",
      "source": [
        "gives us the same as:"
      ]
    },
    {
      "metadata": {
        "id": "KD_eYisRVR9w",
        "colab_type": "code",
        "colab": {}
      },
      "cell_type": "code",
      "source": [
        "#%%timeit\n",
        "for i in w.pH:\n",
        "  print (np.exp(i));"
      ],
      "execution_count": 0,
      "outputs": []
    },
    {
      "metadata": {
        "id": "bEG5cmDAVPFs",
        "colab_type": "text"
      },
      "cell_type": "markdown",
      "source": [
        "or"
      ]
    },
    {
      "metadata": {
        "id": "DgWm8U-QVD5z",
        "colab_type": "code",
        "outputId": "40c8f76f-874a-407c-c412-4a190b3b86db",
        "colab": {
          "base_uri": "https://localhost:8080/",
          "height": 34
        }
      },
      "cell_type": "code",
      "source": [
        "#%%timeit\n",
        "\n",
        "[np.exp(i) for i in w.pH][0:5]"
      ],
      "execution_count": 0,
      "outputs": [
        {
          "output_type": "stream",
          "text": [
            "1000 loops, best of 3: 1.56 ms per loop\n"
          ],
          "name": "stdout"
        }
      ]
    },
    {
      "metadata": {
        "id": "3itlW8aAa97l",
        "colab_type": "text"
      },
      "cell_type": "markdown",
      "source": [
        "## SQL style Joins\n"
      ]
    },
    {
      "metadata": {
        "id": "B6GuRSId9wnd",
        "colab_type": "text"
      },
      "cell_type": "markdown",
      "source": [
        "![alt text](https://pandas.pydata.org/pandas-docs/stable/_images/merging_merge_on_key.png)"
      ]
    },
    {
      "metadata": {
        "id": "pA9WtPgfbcGN",
        "colab_type": "code",
        "outputId": "cb0f89df-8209-4c75-ff72-ed4c5bc303d7",
        "colab": {
          "base_uri": "https://localhost:8080/",
          "height": 172
        }
      },
      "cell_type": "code",
      "source": [
        "left = pd.DataFrame({'key': ['K0', 'K1', 'K2', 'K3'],'A': ['A0', 'A1', 'A2', 'A3'], 'B': ['B0', 'B1', 'B2', 'B3']})\n",
        "\n",
        "\n",
        "right  = pd.DataFrame({'key': ['K0', 'K1', 'K2', 'K3'], 'C': ['C0', 'C1', 'C2', 'C3'],'D': ['D0', 'D1', 'D2', 'D3']})\n",
        "\n",
        "\n",
        "result = pd.merge(left, right, on='key', how ='inner')  #NOTE HOW YOU MUST ASSIGN ANSWER TO A NEW VARIABLE CALLED RESULT\n",
        "\n"
      ],
      "execution_count": 7,
      "outputs": [
        {
          "output_type": "execute_result",
          "data": {
            "text/html": [
              "<div>\n",
              "<style scoped>\n",
              "    .dataframe tbody tr th:only-of-type {\n",
              "        vertical-align: middle;\n",
              "    }\n",
              "\n",
              "    .dataframe tbody tr th {\n",
              "        vertical-align: top;\n",
              "    }\n",
              "\n",
              "    .dataframe thead th {\n",
              "        text-align: right;\n",
              "    }\n",
              "</style>\n",
              "<table border=\"1\" class=\"dataframe\">\n",
              "  <thead>\n",
              "    <tr style=\"text-align: right;\">\n",
              "      <th></th>\n",
              "      <th>A</th>\n",
              "      <th>B</th>\n",
              "      <th>key</th>\n",
              "      <th>C</th>\n",
              "      <th>D</th>\n",
              "    </tr>\n",
              "  </thead>\n",
              "  <tbody>\n",
              "    <tr>\n",
              "      <th>0</th>\n",
              "      <td>A0</td>\n",
              "      <td>B0</td>\n",
              "      <td>K0</td>\n",
              "      <td>C0</td>\n",
              "      <td>D0</td>\n",
              "    </tr>\n",
              "    <tr>\n",
              "      <th>1</th>\n",
              "      <td>A1</td>\n",
              "      <td>B1</td>\n",
              "      <td>K1</td>\n",
              "      <td>C1</td>\n",
              "      <td>D1</td>\n",
              "    </tr>\n",
              "    <tr>\n",
              "      <th>2</th>\n",
              "      <td>A2</td>\n",
              "      <td>B2</td>\n",
              "      <td>K2</td>\n",
              "      <td>C2</td>\n",
              "      <td>D2</td>\n",
              "    </tr>\n",
              "    <tr>\n",
              "      <th>3</th>\n",
              "      <td>A3</td>\n",
              "      <td>B3</td>\n",
              "      <td>K3</td>\n",
              "      <td>C3</td>\n",
              "      <td>D3</td>\n",
              "    </tr>\n",
              "  </tbody>\n",
              "</table>\n",
              "</div>"
            ],
            "text/plain": [
              "    A   B key   C   D\n",
              "0  A0  B0  K0  C0  D0\n",
              "1  A1  B1  K1  C1  D1\n",
              "2  A2  B2  K2  C2  D2\n",
              "3  A3  B3  K3  C3  D3"
            ]
          },
          "metadata": {
            "tags": []
          },
          "execution_count": 7
        }
      ]
    },
    {
      "metadata": {
        "id": "FaA4jLAy-KBx",
        "colab_type": "text"
      },
      "cell_type": "markdown",
      "source": [
        "##  Union\n",
        "\n",
        "\n",
        "![Vertically joining tables](https://pandas.pydata.org/pandas-docs/stable/_images/merging_concat_basic.png)"
      ]
    },
    {
      "metadata": {
        "id": "zDDaiA1--I57",
        "colab_type": "code",
        "colab": {
          "base_uri": "https://localhost:8080/",
          "height": 417
        },
        "outputId": "2aaa1e0d-84c0-44d4-d61a-6d3963242e5b"
      },
      "cell_type": "code",
      "source": [
        "top = pd.DataFrame({   'A': ['A0', 'A1', 'A2', 'A3'],\n",
        "                       'B': ['B0', 'B1', 'B2', 'B3'],\n",
        "                       'C': ['C0', 'C1', 'C2', 'C3'],\n",
        "                       'D': ['D0', 'D1', 'D2', 'D3']},\n",
        "                      index=[0, 1, 2, 3])\n",
        "\n",
        "\n",
        "middle = pd.DataFrame({'A': ['A4', 'A5', 'A6', 'A7'],\n",
        "                       'B': ['B4', 'B5', 'B6', 'B7'],\n",
        "                       'C': ['C4', 'C5', 'C6', 'C7'],\n",
        "                       'D': ['D4', 'D5', 'D6', 'D7']},\n",
        "                       index=[4, 5, 6, 7])\n",
        "   \n",
        "bottom = pd.DataFrame({'A': ['A8', 'A9', 'A10', 'A11'],\n",
        "                       'B': ['B8', 'B9', 'B10', 'B11'],\n",
        "                       'C': ['C8', 'C9', 'C10', 'C11'],\n",
        "                       'D': ['D8', 'D9', 'D10', 'D11']},\n",
        "                      index=[8, 9, 10, 11])\n",
        "  \n",
        "  \n",
        "#1. Create a list of dataframes\n",
        "\n",
        "df_list = [top, middle, bottom]\n",
        "\n",
        "#2. pd.CONCATENATE\n",
        "\n",
        "df = pd.concat(df_list) #NOTICE HOW YOU USE pd.() here, unlike the above example\n",
        "\n",
        "  "
      ],
      "execution_count": 13,
      "outputs": [
        {
          "output_type": "execute_result",
          "data": {
            "text/html": [
              "<div>\n",
              "<style scoped>\n",
              "    .dataframe tbody tr th:only-of-type {\n",
              "        vertical-align: middle;\n",
              "    }\n",
              "\n",
              "    .dataframe tbody tr th {\n",
              "        vertical-align: top;\n",
              "    }\n",
              "\n",
              "    .dataframe thead th {\n",
              "        text-align: right;\n",
              "    }\n",
              "</style>\n",
              "<table border=\"1\" class=\"dataframe\">\n",
              "  <thead>\n",
              "    <tr style=\"text-align: right;\">\n",
              "      <th></th>\n",
              "      <th>A</th>\n",
              "      <th>B</th>\n",
              "      <th>C</th>\n",
              "      <th>D</th>\n",
              "    </tr>\n",
              "  </thead>\n",
              "  <tbody>\n",
              "    <tr>\n",
              "      <th>0</th>\n",
              "      <td>A0</td>\n",
              "      <td>B0</td>\n",
              "      <td>C0</td>\n",
              "      <td>D0</td>\n",
              "    </tr>\n",
              "    <tr>\n",
              "      <th>1</th>\n",
              "      <td>A1</td>\n",
              "      <td>B1</td>\n",
              "      <td>C1</td>\n",
              "      <td>D1</td>\n",
              "    </tr>\n",
              "    <tr>\n",
              "      <th>2</th>\n",
              "      <td>A2</td>\n",
              "      <td>B2</td>\n",
              "      <td>C2</td>\n",
              "      <td>D2</td>\n",
              "    </tr>\n",
              "    <tr>\n",
              "      <th>3</th>\n",
              "      <td>A3</td>\n",
              "      <td>B3</td>\n",
              "      <td>C3</td>\n",
              "      <td>D3</td>\n",
              "    </tr>\n",
              "    <tr>\n",
              "      <th>4</th>\n",
              "      <td>A4</td>\n",
              "      <td>B4</td>\n",
              "      <td>C4</td>\n",
              "      <td>D4</td>\n",
              "    </tr>\n",
              "    <tr>\n",
              "      <th>5</th>\n",
              "      <td>A5</td>\n",
              "      <td>B5</td>\n",
              "      <td>C5</td>\n",
              "      <td>D5</td>\n",
              "    </tr>\n",
              "    <tr>\n",
              "      <th>6</th>\n",
              "      <td>A6</td>\n",
              "      <td>B6</td>\n",
              "      <td>C6</td>\n",
              "      <td>D6</td>\n",
              "    </tr>\n",
              "    <tr>\n",
              "      <th>7</th>\n",
              "      <td>A7</td>\n",
              "      <td>B7</td>\n",
              "      <td>C7</td>\n",
              "      <td>D7</td>\n",
              "    </tr>\n",
              "    <tr>\n",
              "      <th>8</th>\n",
              "      <td>A8</td>\n",
              "      <td>B8</td>\n",
              "      <td>C8</td>\n",
              "      <td>D8</td>\n",
              "    </tr>\n",
              "    <tr>\n",
              "      <th>9</th>\n",
              "      <td>A9</td>\n",
              "      <td>B9</td>\n",
              "      <td>C9</td>\n",
              "      <td>D9</td>\n",
              "    </tr>\n",
              "    <tr>\n",
              "      <th>10</th>\n",
              "      <td>A10</td>\n",
              "      <td>B10</td>\n",
              "      <td>C10</td>\n",
              "      <td>D10</td>\n",
              "    </tr>\n",
              "    <tr>\n",
              "      <th>11</th>\n",
              "      <td>A11</td>\n",
              "      <td>B11</td>\n",
              "      <td>C11</td>\n",
              "      <td>D11</td>\n",
              "    </tr>\n",
              "  </tbody>\n",
              "</table>\n",
              "</div>"
            ],
            "text/plain": [
              "      A    B    C    D\n",
              "0    A0   B0   C0   D0\n",
              "1    A1   B1   C1   D1\n",
              "2    A2   B2   C2   D2\n",
              "3    A3   B3   C3   D3\n",
              "4    A4   B4   C4   D4\n",
              "5    A5   B5   C5   D5\n",
              "6    A6   B6   C6   D6\n",
              "7    A7   B7   C7   D7\n",
              "8    A8   B8   C8   D8\n",
              "9    A9   B9   C9   D9\n",
              "10  A10  B10  C10  D10\n",
              "11  A11  B11  C11  D11"
            ]
          },
          "metadata": {
            "tags": []
          },
          "execution_count": 13
        }
      ]
    },
    {
      "metadata": {
        "id": "guKyVmuvdboS",
        "colab_type": "text"
      },
      "cell_type": "markdown",
      "source": [
        "# Plotting Data"
      ]
    },
    {
      "metadata": {
        "id": "E9kU7s9ptnaU",
        "colab_type": "text"
      },
      "cell_type": "markdown",
      "source": [
        "## Matplotlib"
      ]
    },
    {
      "metadata": {
        "id": "ja2QbJj-eV3g",
        "colab_type": "text"
      },
      "cell_type": "markdown",
      "source": [
        "To begin with, we'll look at core module for all plotting in python, \n",
        "Matplotlib. \n",
        "\n",
        "Remember, if you forget how to use a particular function, use help(function)."
      ]
    },
    {
      "metadata": {
        "id": "ogHCA4iEdr1i",
        "colab_type": "code",
        "colab": {}
      },
      "cell_type": "code",
      "source": [
        "import matplotlib.pyplot as plt\n",
        "\n",
        "import numpy as np #we'll use numpy to make some synthetic data\n",
        "\n",
        "x = np.linspace(0, 10, 10)"
      ],
      "execution_count": 0,
      "outputs": []
    },
    {
      "metadata": {
        "id": "qdwdKK15eDWI",
        "colab_type": "code",
        "outputId": "85df3014-333b-4189-a4a3-b240470bec95",
        "colab": {
          "base_uri": "https://localhost:8080/",
          "height": 311
        }
      },
      "cell_type": "code",
      "source": [
        "plt.plot(x, x, label='linear') #THIS HAS CREATED A HIGH LEVEL PLOT OBJECT\n",
        "\n",
        "#CHANGE SIMPLE OPTIONS:\n",
        "plt.xlabel('x')\n",
        "plt.ylabel('y')\n",
        "plt.title(\"The simplest plot you'll ever see\")\n",
        "\n"
      ],
      "execution_count": 0,
      "outputs": [
        {
          "output_type": "execute_result",
          "data": {
            "text/plain": [
              "Text(0.5, 1.0, \"The simplest plot you'll ever see\")"
            ]
          },
          "metadata": {
            "tags": []
          },
          "execution_count": 44
        },
        {
          "output_type": "display_data",
          "data": {
            "image/png": "[encoded data removed]",
            "text/plain": [
              "<Figure size 432x288 with 1 Axes>"
            ]
          },
          "metadata": {
            "tags": []
          }
        }
      ]
    },
    {
      "metadata": {
        "id": "FqAnM3FAi1pg",
        "colab_type": "code",
        "colab": {}
      },
      "cell_type": "code",
      "source": [
        "plt.close()"
      ],
      "execution_count": 0,
      "outputs": []
    },
    {
      "metadata": {
        "id": "kc2rubpVfuZ6",
        "colab_type": "text"
      },
      "cell_type": "markdown",
      "source": [
        "**Plot** objects (i.e. plt.() are high level). We don't have control over a specific series on the plot. \n",
        " A specific series of data \n",
        "on the plot is called an **Axes**\n",
        "\n",
        "lets do the above again, but this time we'll create our **Axes** objects!\n",
        "\n",
        "![alt text](https://files.realpython.com/media/fig_map.bc8c7cabd823.png)"
      ]
    },
    {
      "metadata": {
        "id": "5vqSf7rZh2FM",
        "colab_type": "code",
        "outputId": "34dacafd-60cf-414a-8c84-e835f79392c3",
        "colab": {
          "base_uri": "https://localhost:8080/",
          "height": 353
        }
      },
      "cell_type": "code",
      "source": [
        "fig  = plt.figure() #rather than a plot, this time I'm starting with a blank figure\n",
        "\n",
        "ax1 = fig.add_subplot(111) #I'm now creating an axes object so I can control it in detail\n",
        "ax2 = fig.add_subplot(111)\n",
        "\n",
        "\n",
        "ax1.plot(x,x, color ='red')\n",
        "ax2.scatter(x,x, color ='green')\n",
        "#ax2.bar(x,x)\n",
        "#plt.xlim(0,10) # Means \"call the plot, then select ax1/ax2\"\n",
        "\n",
        "\n",
        "ax1.set_xlim(0,10)\n"
      ],
      "execution_count": 0,
      "outputs": [
        {
          "output_type": "stream",
          "text": [
            "/usr/local/lib/python3.6/dist-packages/matplotlib/figure.py:98: MatplotlibDeprecationWarning: \n",
            "Adding an axes using the same arguments as a previous axes currently reuses the earlier instance.  In a future version, a new instance will always be created and returned.  Meanwhile, this warning can be suppressed, and the future behavior ensured, by passing a unique label to each axes instance.\n",
            "  \"Adding an axes using the same arguments as a previous axes \"\n"
          ],
          "name": "stderr"
        },
        {
          "output_type": "execute_result",
          "data": {
            "text/plain": [
              "(0, 10)"
            ]
          },
          "metadata": {
            "tags": []
          },
          "execution_count": 47
        },
        {
          "output_type": "display_data",
          "data": {
            "image/png": "[encoded data removed]",
            "text/plain": [
              "<Figure size 432x288 with 1 Axes>"
            ]
          },
          "metadata": {
            "tags": []
          }
        }
      ]
    },
    {
      "metadata": {
        "id": "e4ll_sYkjQVs",
        "colab_type": "code",
        "outputId": "5c7f344d-a380-4c0f-d046-5700d2b65aab",
        "colab": {
          "base_uri": "https://localhost:8080/",
          "height": 353
        }
      },
      "cell_type": "code",
      "source": [
        "fig  = plt.figure() #rather than a plot, this time I'm starting with a blank figure\n",
        "\n",
        "ax1 = fig.add_subplot(111) #I'm now creating an axes object so I can control it in detail\n",
        "ax2 = fig.add_subplot(111)\n",
        "\n",
        "\n",
        "ax1.plot(x,x, '--', color ='red', zorder = 0)\n",
        "ax2.scatter(x,x, color ='blue', zorder =10, s =x*30, alpha = 0.8) #s = size\n",
        "\n",
        "\n",
        "\n",
        "\n"
      ],
      "execution_count": 0,
      "outputs": [
        {
          "output_type": "stream",
          "text": [
            "/usr/local/lib/python3.6/dist-packages/matplotlib/figure.py:98: MatplotlibDeprecationWarning: \n",
            "Adding an axes using the same arguments as a previous axes currently reuses the earlier instance.  In a future version, a new instance will always be created and returned.  Meanwhile, this warning can be suppressed, and the future behavior ensured, by passing a unique label to each axes instance.\n",
            "  \"Adding an axes using the same arguments as a previous axes \"\n"
          ],
          "name": "stderr"
        },
        {
          "output_type": "execute_result",
          "data": {
            "text/plain": [
              "<matplotlib.collections.PathCollection at 0x7fe71c5e6b38>"
            ]
          },
          "metadata": {
            "tags": []
          },
          "execution_count": 66
        },
        {
          "output_type": "display_data",
          "data": {
            "image/png": "[encoded data removed]",
            "text/plain": [
              "<Figure size 432x288 with 1 Axes>"
            ]
          },
          "metadata": {
            "tags": []
          }
        }
      ]
    },
    {
      "metadata": {
        "id": "yoC1tA2ptSw9",
        "colab_type": "text"
      },
      "cell_type": "markdown",
      "source": [
        "For a list of all colors,  marker styles, \n",
        "sizes etc. see [https://matplotlib.org/api/_as_gen/matplotlib.axes.Axes.plot.html](https://)"
      ]
    },
    {
      "metadata": {
        "id": "eDP4fOemtupn",
        "colab_type": "text"
      },
      "cell_type": "markdown",
      "source": [
        "## Pandas Plotting\n",
        "-For a quick look at your data"
      ]
    },
    {
      "metadata": {
        "id": "Rdu7P_vPtssq",
        "colab_type": "code",
        "colab": {}
      },
      "cell_type": "code",
      "source": [
        "import numpy as np\n",
        "#Start by generating data\n",
        "x = np.arange(0,10, 1)\n",
        "x=np.round(x,2)\n",
        "sinx = np.sin(x)\n",
        "cosx = np.cos(x)\n",
        "error  = sinx/10\n",
        "import pandas as pd\n",
        "#put into dataframe\n",
        "df = pd.DataFrame([x,sinx, error])\n",
        "df = df.T # Transposes dataframe\n",
        "\n",
        "df.rename(columns = {0:'x', 1:'sinx',2:'error'}, inplace =True) # or df  = df.rename() ....\n",
        "\n"
      ],
      "execution_count": 0,
      "outputs": []
    },
    {
      "metadata": {
        "id": "AgXgPHgTu6mb",
        "colab_type": "code",
        "outputId": "63d7ab4b-2752-4dca-d430-d085f5825921",
        "colab": {
          "base_uri": "https://localhost:8080/",
          "height": 382
        }
      },
      "cell_type": "code",
      "source": [
        "df.plot.bar(x= 'x', y='sinx')\n"
      ],
      "execution_count": 0,
      "outputs": [
        {
          "output_type": "execute_result",
          "data": {
            "text/plain": [
              "<matplotlib.axes._subplots.AxesSubplot at 0x7f10a5a914a8>"
            ]
          },
          "metadata": {
            "tags": []
          },
          "execution_count": 62
        },
        {
          "output_type": "display_data",
          "data": {
            "image/png": "[encoded data removed]",
            "text/plain": [
              "<Figure size 576x396 with 1 Axes>"
            ]
          },
          "metadata": {
            "tags": []
          }
        }
      ]
    },
    {
      "metadata": {
        "id": "nshzCRpsxf3V",
        "colab_type": "code",
        "outputId": "7c372272-7649-4f8b-be3c-3bb3624f8f7b",
        "colab": {
          "base_uri": "https://localhost:8080/",
          "height": 382
        }
      },
      "cell_type": "code",
      "source": [
        "ax=df.plot.bar(x = 'x', y='sinx',  color ='b', alpha=0.3 )\n",
        "\n",
        "#this is a matplotlib axes, so we can use matplotlib commands on it.\n",
        "\n",
        "ax.set_xlabel('X')\n",
        "ax.set_ylabel('My Label')\n",
        "ax.xaxis.set_major_locator(plt.MaxNLocator(10))\n",
        "\n",
        "plt.legend(loc=2)\n",
        "ax.get_xlim()\n",
        "\n"
      ],
      "execution_count": 0,
      "outputs": [
        {
          "output_type": "execute_result",
          "data": {
            "text/plain": [
              "(-0.5, 9.5)"
            ]
          },
          "metadata": {
            "tags": []
          },
          "execution_count": 63
        },
        {
          "output_type": "display_data",
          "data": {
            "image/png": "[encoded data removed]",
            "text/plain": [
              "<Figure size 576x396 with 1 Axes>"
            ]
          },
          "metadata": {
            "tags": []
          }
        }
      ]
    },
    {
      "metadata": {
        "id": "YyliZMeV0KRf",
        "colab_type": "text"
      },
      "cell_type": "markdown",
      "source": [
        "see: https://jakevdp.github.io/PythonDataScienceHandbook/04.10-customizing-ticks.html"
      ]
    },
    {
      "metadata": {
        "id": "1Mt54x7gJ4c8",
        "colab_type": "text"
      },
      "cell_type": "markdown",
      "source": [
        "## Seaborn Plotting\n",
        "Makes beautiful graphs!"
      ]
    },
    {
      "metadata": {
        "id": "3N5WyoZfHD7F",
        "colab_type": "code",
        "outputId": "eec78923-603d-42f1-cd2a-3e2afbed9be3",
        "colab": {
          "base_uri": "https://localhost:8080/",
          "height": 382
        }
      },
      "cell_type": "code",
      "source": [
        "import seaborn as sns\n",
        "\n",
        "df = sns.load_dataset(\"anscombe\")\n",
        "df.head()\n",
        "\n"
      ],
      "execution_count": 0,
      "outputs": [
        {
          "output_type": "execute_result",
          "data": {
            "text/plain": [
              "<seaborn.axisgrid.FacetGrid at 0x7f10a6b322b0>"
            ]
          },
          "metadata": {
            "tags": []
          },
          "execution_count": 39
        },
        {
          "output_type": "display_data",
          "data": {
            "image/png": "[encoded data removed]",
            "text/plain": [
              "<Figure size 405.375x360 with 1 Axes>"
            ]
          },
          "metadata": {
            "tags": []
          }
        }
      ]
    },
    {
      "metadata": {
        "id": "xrqUs0rfJCcf",
        "colab_type": "code",
        "outputId": "048049fb-f5e7-44ea-a80f-0e753b40ece9",
        "colab": {
          "base_uri": "https://localhost:8080/",
          "height": 382
        }
      },
      "cell_type": "code",
      "source": [
        "sns.lmplot(x=\"x\", y=\"y\",  hue=\"dataset\", data=df) # generates an unpleasant plot. Hue gives the different colors"
      ],
      "execution_count": 0,
      "outputs": [
        {
          "output_type": "execute_result",
          "data": {
            "text/plain": [
              "<seaborn.axisgrid.FacetGrid at 0x7f10a604c1d0>"
            ]
          },
          "metadata": {
            "tags": []
          },
          "execution_count": 40
        },
        {
          "output_type": "display_data",
          "data": {
            "image/png": "[encoded data removed]",
            "text/plain": [
              "<Figure size 405.375x360 with 1 Axes>"
            ]
          },
          "metadata": {
            "tags": []
          }
        }
      ]
    },
    {
      "metadata": {
        "id": "XcoTRJTOJH9g",
        "colab_type": "code",
        "outputId": "85f6fcf0-ae42-46b8-870e-2560b9450f2a",
        "colab": {
          "base_uri": "https://localhost:8080/",
          "height": 382
        }
      },
      "cell_type": "code",
      "source": [
        "#lets split the graphs out using the col argument\n",
        "\n",
        "\n",
        "sns.lmplot(x=\"x\", y=\"y\", col=\"dataset\", hue=\"dataset\", data=df) #  too wide\n"
      ],
      "execution_count": 0,
      "outputs": [
        {
          "output_type": "execute_result",
          "data": {
            "text/plain": [
              "<seaborn.axisgrid.FacetGrid at 0x7f10a6a2d278>"
            ]
          },
          "metadata": {
            "tags": []
          },
          "execution_count": 45
        },
        {
          "output_type": "display_data",
          "data": {
            "image/png": "[encoded data removed]",
            "text/plain": [
              "<Figure size 1440x360 with 4 Axes>"
            ]
          },
          "metadata": {
            "tags": []
          }
        }
      ]
    },
    {
      "metadata": {
        "id": "-Lqn4zuGJYde",
        "colab_type": "code",
        "outputId": "a0a411e6-dba1-412a-92d7-6820c5afc112",
        "colab": {
          "base_uri": "https://localhost:8080/",
          "height": 742
        }
      },
      "cell_type": "code",
      "source": [
        "sns.lmplot(x=\"x\", y=\"y\", col=\"dataset\", col_wrap = 2, hue=\"dataset\", data=df) #  "
      ],
      "execution_count": 0,
      "outputs": [
        {
          "output_type": "execute_result",
          "data": {
            "text/plain": [
              "<seaborn.axisgrid.FacetGrid at 0x7f10a7529eb8>"
            ]
          },
          "metadata": {
            "tags": []
          },
          "execution_count": 46
        },
        {
          "output_type": "display_data",
          "data": {
            "image/png": "[encoded data removed]",
            "text/plain": [
              "<Figure size 720x720 with 4 Axes>"
            ]
          },
          "metadata": {
            "tags": []
          }
        }
      ]
    },
    {
      "metadata": {
        "id": "KJWUwI71KSmU",
        "colab_type": "code",
        "outputId": "816d1af6-33cf-4f4a-9706-4fadc2b8e584",
        "colab": {
          "base_uri": "https://localhost:8080/",
          "height": 204
        }
      },
      "cell_type": "code",
      "source": [
        "\n",
        "#sns.set(style=\"ticks\", palette=\"pastel\")\n",
        "\n",
        "# Load the example tips dataset\n",
        "tips = sns.load_dataset(\"tips\")\n",
        "tips.head()\n"
      ],
      "execution_count": 0,
      "outputs": [
        {
          "output_type": "execute_result",
          "data": {
            "text/html": [
              "<div>\n",
              "<style scoped>\n",
              "    .dataframe tbody tr th:only-of-type {\n",
              "        vertical-align: middle;\n",
              "    }\n",
              "\n",
              "    .dataframe tbody tr th {\n",
              "        vertical-align: top;\n",
              "    }\n",
              "\n",
              "    .dataframe thead th {\n",
              "        text-align: right;\n",
              "    }\n",
              "</style>\n",
              "<table border=\"1\" class=\"dataframe\">\n",
              "  <thead>\n",
              "    <tr style=\"text-align: right;\">\n",
              "      <th></th>\n",
              "      <th>total_bill</th>\n",
              "      <th>tip</th>\n",
              "      <th>sex</th>\n",
              "      <th>smoker</th>\n",
              "      <th>day</th>\n",
              "      <th>time</th>\n",
              "      <th>size</th>\n",
              "    </tr>\n",
              "  </thead>\n",
              "  <tbody>\n",
              "    <tr>\n",
              "      <th>0</th>\n",
              "      <td>16.99</td>\n",
              "      <td>1.01</td>\n",
              "      <td>Female</td>\n",
              "      <td>No</td>\n",
              "      <td>Sun</td>\n",
              "      <td>Dinner</td>\n",
              "      <td>2</td>\n",
              "    </tr>\n",
              "    <tr>\n",
              "      <th>1</th>\n",
              "      <td>10.34</td>\n",
              "      <td>1.66</td>\n",
              "      <td>Male</td>\n",
              "      <td>No</td>\n",
              "      <td>Sun</td>\n",
              "      <td>Dinner</td>\n",
              "      <td>3</td>\n",
              "    </tr>\n",
              "    <tr>\n",
              "      <th>2</th>\n",
              "      <td>21.01</td>\n",
              "      <td>3.50</td>\n",
              "      <td>Male</td>\n",
              "      <td>No</td>\n",
              "      <td>Sun</td>\n",
              "      <td>Dinner</td>\n",
              "      <td>3</td>\n",
              "    </tr>\n",
              "    <tr>\n",
              "      <th>3</th>\n",
              "      <td>23.68</td>\n",
              "      <td>3.31</td>\n",
              "      <td>Male</td>\n",
              "      <td>No</td>\n",
              "      <td>Sun</td>\n",
              "      <td>Dinner</td>\n",
              "      <td>2</td>\n",
              "    </tr>\n",
              "    <tr>\n",
              "      <th>4</th>\n",
              "      <td>24.59</td>\n",
              "      <td>3.61</td>\n",
              "      <td>Female</td>\n",
              "      <td>No</td>\n",
              "      <td>Sun</td>\n",
              "      <td>Dinner</td>\n",
              "      <td>4</td>\n",
              "    </tr>\n",
              "  </tbody>\n",
              "</table>\n",
              "</div>"
            ],
            "text/plain": [
              "   total_bill   tip     sex smoker  day    time  size\n",
              "0       16.99  1.01  Female     No  Sun  Dinner     2\n",
              "1       10.34  1.66    Male     No  Sun  Dinner     3\n",
              "2       21.01  3.50    Male     No  Sun  Dinner     3\n",
              "3       23.68  3.31    Male     No  Sun  Dinner     2\n",
              "4       24.59  3.61  Female     No  Sun  Dinner     4"
            ]
          },
          "metadata": {
            "tags": []
          },
          "execution_count": 50
        }
      ]
    },
    {
      "metadata": {
        "id": "9feCKMHBKqk_",
        "colab_type": "code",
        "outputId": "8f9536f6-92d9-4670-f266-a8d53c33d78b",
        "colab": {
          "base_uri": "https://localhost:8080/",
          "height": 424
        }
      },
      "cell_type": "code",
      "source": [
        "# Draw a nested boxplot to show bills by day and time\n",
        "\n",
        "sns.set(style=\"ticks\", palette=\"pastel\")\n",
        "\n",
        "ax = sns.boxplot(x=\"day\", y=\"total_bill\", hue=\"smoker\",\n",
        "                 palette=[\"m\", \"g\"], data=tips)\n",
        "\n",
        "\n",
        "#sns.despine(offset=10, trim=True) remove border\n",
        "\n",
        "ax.set(xlabel='Day', ylabel = 'Total Bill') #Notice how I'm updating the matplotlib ax object here"
      ],
      "execution_count": 0,
      "outputs": [
        {
          "output_type": "stream",
          "text": [
            "/usr/local/lib/python3.6/dist-packages/seaborn/categorical.py:482: FutureWarning: remove_na is deprecated and is a private function. Do not use.\n",
            "  box_data = remove_na(group_data[hue_mask])\n"
          ],
          "name": "stderr"
        },
        {
          "output_type": "execute_result",
          "data": {
            "text/plain": [
              "[Text(0, 0.5, 'Total Bill'), Text(0.5, 0, 'Day')]"
            ]
          },
          "metadata": {
            "tags": []
          },
          "execution_count": 65
        },
        {
          "output_type": "display_data",
          "data": {
            "image/png": "[encoded data removed]",
            "text/plain": [
              "<Figure size 576x396 with 1 Axes>"
            ]
          },
          "metadata": {
            "tags": []
          }
        }
      ]
    },
    {
      "metadata": {
        "id": "mF2BebsAPpx6",
        "colab_type": "code",
        "outputId": "bec6e2dd-49e0-48e4-fc26-b70ef12ae0a5",
        "colab": {
          "base_uri": "https://localhost:8080/",
          "height": 488
        }
      },
      "cell_type": "code",
      "source": [
        "ax2 = sns.jointplot(\"total_bill\", \"tip\", data=tips, kind=\"reg\",\n",
        "                  xlim=(0, 60), ylim=(0, 12), color=\"r\")"
      ],
      "execution_count": 0,
      "outputs": [
        {
          "output_type": "stream",
          "text": [
            "/usr/local/lib/python3.6/dist-packages/matplotlib/axes/_axes.py:6521: MatplotlibDeprecationWarning: \n",
            "The 'normed' kwarg was deprecated in Matplotlib 2.1 and will be removed in 3.1. Use 'density' instead.\n",
            "  alternative=\"'density'\", removal=\"3.1\")\n"
          ],
          "name": "stderr"
        },
        {
          "output_type": "display_data",
          "data": {
            "image/png": "[encoded data removed]",
            "text/plain": [
              "<Figure size 432x432 with 3 Axes>"
            ]
          },
          "metadata": {
            "tags": []
          }
        }
      ]
    }
  ]
}