{
  "nbformat": 4,
  "nbformat_minor": 0,
  "metadata": {
    "colab": {
      "name": "Class1.ipynb",
      "version": "0.3.2",
      "provenance": [],
      "include_colab_link": true
    },
    "kernelspec": {
      "name": "python36",
      "display_name": "Python 3.6",
      "language": "python"
    }
  },
  "cells": [
    {
      "cell_type": "markdown",
      "metadata": {
        "id": "view-in-github",
        "colab_type": "text"
      },
      "source": [
        "<a href=\"https://colab.research.google.com/github/danielosullivan2007/Teaching/blob/master/Class1.ipynb\" target=\"_parent\"><img src=\"https://colab.research.google.com/assets/colab-badge.svg\" alt=\"Open In Colab\"/></a>"
      ]
    },
    {
      "metadata": {
        "trusted": true,
        "id": "vIn_3vXmsk-D",
        "colab_type": "code",
        "colab": {}
      },
      "cell_type": "code",
      "source": [
        "#TO RUN JUST ONE CELL AT A TIME IN JUPYTER, PRESS CNTRL-ENTER\n",
        "#TO RUN A SELECTION IN ANACONDA, PRESS f9\n",
        "\n",
        "#FOR ANY FUNCTION fn, IF YOU WANT TO SEE THE DOCUMENTATION USE help(fn) \n",
        "\n",
        "#1. Load our packages \n",
        "import pandas as pd #Pandas is the data manipulation package\n",
        "import glob as glob #A simple package which lets you scan for a fixed file name\n",
        "import os # allows you to change the working directory. Not needed for jupyter, only Anaconda Spyder"
      ],
      "execution_count": 0,
      "outputs": []
    },
    {
      "metadata": {
        "trusted": true,
        "id": "vHEHNqwZsk-M",
        "colab_type": "code",
        "colab": {}
      },
      "cell_type": "code",
      "source": [
        "#2. Create a list of numbers and a list of words. \n",
        "\n",
        "fruit_list = [\"apples\", \"bananas\", \"oranges\"]\n",
        "mixed_list  = [\"a\", 1, \"z\"]\n",
        "numbers_list = [1,2,3]"
      ],
      "execution_count": 0,
      "outputs": []
    },
    {
      "metadata": {
        "trusted": true,
        "id": "c4_mSJf3sk-V",
        "colab_type": "code",
        "colab": {},
        "outputId": "217b1e4a-46d7-428c-ad40-10fbe4de12e6"
      },
      "cell_type": "code",
      "source": [
        "#3. Create a dataframe called df to and put in the three lists\n",
        "#First, make a list of your lists!\n",
        "\n",
        "list_of_lists = [fruit_list, mixed_list, numbers_list]\n",
        "df = pd.DataFrame(list_of_lists)\n",
        "df"
      ],
      "execution_count": 0,
      "outputs": [
        {
          "output_type": "execute_result",
          "data": {
            "text/html": [
              "<div>\n",
              "<style scoped>\n",
              "    .dataframe tbody tr th:only-of-type {\n",
              "        vertical-align: middle;\n",
              "    }\n",
              "\n",
              "    .dataframe tbody tr th {\n",
              "        vertical-align: top;\n",
              "    }\n",
              "\n",
              "    .dataframe thead th {\n",
              "        text-align: right;\n",
              "    }\n",
              "</style>\n",
              "<table border=\"1\" class=\"dataframe\">\n",
              "  <thead>\n",
              "    <tr style=\"text-align: right;\">\n",
              "      <th></th>\n",
              "      <th>0</th>\n",
              "      <th>1</th>\n",
              "      <th>2</th>\n",
              "    </tr>\n",
              "  </thead>\n",
              "  <tbody>\n",
              "    <tr>\n",
              "      <th>0</th>\n",
              "      <td>apples</td>\n",
              "      <td>bananas</td>\n",
              "      <td>oranges</td>\n",
              "    </tr>\n",
              "    <tr>\n",
              "      <th>1</th>\n",
              "      <td>a</td>\n",
              "      <td>1</td>\n",
              "      <td>z</td>\n",
              "    </tr>\n",
              "    <tr>\n",
              "      <th>2</th>\n",
              "      <td>1</td>\n",
              "      <td>2</td>\n",
              "      <td>3</td>\n",
              "    </tr>\n",
              "  </tbody>\n",
              "</table>\n",
              "</div>"
            ],
            "text/plain": [
              "        0        1        2\n",
              "0  apples  bananas  oranges\n",
              "1       a        1        z\n",
              "2       1        2        3"
            ]
          },
          "metadata": {
            "tags": []
          },
          "execution_count": 3
        }
      ]
    },
    {
      "metadata": {
        "trusted": true,
        "id": "QfVqvKf-sk-j",
        "colab_type": "code",
        "colab": {},
        "outputId": "b842b192-91a2-43b2-eaaf-735ef9e82132"
      },
      "cell_type": "code",
      "source": [
        "# 4.\tPrint the first item of the dataframe (fill in the blanks)\n",
        "#Pandas use the df.iloc( )\n",
        "\n",
        "df.iloc[0,0]"
      ],
      "execution_count": 0,
      "outputs": [
        {
          "output_type": "execute_result",
          "data": {
            "text/plain": [
              "'apples'"
            ]
          },
          "metadata": {
            "tags": []
          },
          "execution_count": 4
        }
      ]
    },
    {
      "metadata": {
        "trusted": true,
        "id": "B0OteYobsk-s",
        "colab_type": "code",
        "colab": {},
        "outputId": "8c147b32-bbab-4d6a-fad7-aae93566c953"
      },
      "cell_type": "code",
      "source": [
        "#5.\tMake a list of the  fruits “apple”, “banana” and “cherry” . Write a loop to iterate over them.\n",
        "\n",
        "fruit_list = [\"apple\", \"banana\", \"cherry\"]\n",
        "\n",
        "for fruit in reversed(fruit_list):\n",
        "    print (fruit)"
      ],
      "execution_count": 0,
      "outputs": [
        {
          "output_type": "stream",
          "text": [
            "cherry\n",
            "banana\n",
            "apple\n"
          ],
          "name": "stdout"
        }
      ]
    },
    {
      "metadata": {
        "trusted": true,
        "id": "ve8TZriCsk-0",
        "colab_type": "code",
        "colab": {},
        "outputId": "e10f05e2-da2d-4d84-c17c-9848c2dfd3eb"
      },
      "cell_type": "code",
      "source": [
        "#6.\tWrite a loop to print the numbers from 1 to 10\n",
        "\n",
        "for i in range(11):\n",
        "    print (i)"
      ],
      "execution_count": 0,
      "outputs": [
        {
          "output_type": "stream",
          "text": [
            "0\n",
            "1\n",
            "2\n",
            "3\n",
            "4\n",
            "5\n",
            "6\n",
            "7\n",
            "8\n",
            "9\n",
            "10\n"
          ],
          "name": "stdout"
        }
      ]
    },
    {
      "metadata": {
        "trusted": true,
        "id": "0F3h6l8zsk-6",
        "colab_type": "code",
        "colab": {},
        "outputId": "8385648e-d18b-41c7-bd04-87de6de9b3f7"
      },
      "cell_type": "code",
      "source": [
        "#7.\tWrite an if statement that checks the condition if < 5.\t\n",
        "\n",
        "i=2\n",
        "if i < 5:\n",
        "    print (i)"
      ],
      "execution_count": 0,
      "outputs": [
        {
          "output_type": "stream",
          "text": [
            "2\n"
          ],
          "name": "stdout"
        }
      ]
    },
    {
      "metadata": {
        "trusted": true,
        "id": "auYnynwbsk_C",
        "colab_type": "code",
        "colab": {},
        "outputId": "bd9e402f-f423-4e55-c414-d01450c1992e"
      },
      "cell_type": "code",
      "source": [
        "#8.\tPut the if statement into your loop from 6\n",
        "for i in range(11):\n",
        "    if i < 5:\n",
        "        print (i)\n",
        " "
      ],
      "execution_count": 0,
      "outputs": [
        {
          "output_type": "stream",
          "text": [
            "0\n",
            "1\n",
            "2\n",
            "3\n",
            "4\n"
          ],
          "name": "stdout"
        }
      ]
    },
    {
      "metadata": {
        "trusted": true,
        "id": "TFTAed10sk_K",
        "colab_type": "code",
        "colab": {}
      },
      "cell_type": "code",
      "source": [
        "#9.\tCreate a list of all the files in a directory\n",
        "#glob.glob will run in the active directory. If your files are elsewhere, do glob.glob(directory_location + '*.csv' )\n",
        "\n",
        "files_list  = glob.glob('*.csv') "
      ],
      "execution_count": 0,
      "outputs": []
    },
    {
      "metadata": {
        "trusted": true,
        "id": "ARSZ581ssk_S",
        "colab_type": "code",
        "colab": {},
        "outputId": "6ed89e9d-c894-4252-849e-071df2e547d5"
      },
      "cell_type": "code",
      "source": [
        "# 10.\tLoop over all the files in a directory, printing out the name of each\n",
        "for i in files_list:\n",
        "    print (i)"
      ],
      "execution_count": 0,
      "outputs": [
        {
          "output_type": "stream",
          "text": [
            "Titanic2.csv\n",
            "titanic1.csv\n"
          ],
          "name": "stdout"
        }
      ]
    },
    {
      "metadata": {
        "trusted": true,
        "id": "Qgy3dI-zsk_Y",
        "colab_type": "code",
        "colab": {}
      },
      "cell_type": "code",
      "source": [
        "#11.\tRead in multiple CSVs from a folder, saving each one as a dataframe\n",
        "#12.\tMerge the CSVs.\n",
        "\n",
        "\n",
        "#We'll do both steps together in one go here. \n",
        "\n",
        "\n",
        "\n",
        "#First, make an empty dataframe\n",
        "df = pd.DataFrame()\n",
        "    \n",
        "#read in each file one by one, then add them to df using     \n",
        "for i in files_list:\n",
        "    data_to_add = pd.read_csv(i)\n",
        "    \n",
        "    df = df.append(data_to_add)  #WARNING! THIS IS A TRICKY STEP. NOTICE HOW WE HAVE DONE df = df.append()   \n",
        "    \n"
      ],
      "execution_count": 0,
      "outputs": []
    },
    {
      "metadata": {
        "trusted": true,
        "id": "0QO7m2PUsk_b",
        "colab_type": "code",
        "colab": {},
        "outputId": "c1d091b9-d00a-4698-ec41-42a33867c770"
      },
      "cell_type": "code",
      "source": [
        "#13.\tPrint top 10 rows, bottom 10 rows, and save the column names as a list called columns\n",
        "\n",
        "df.head()"
      ],
      "execution_count": 0,
      "outputs": [
        {
          "output_type": "execute_result",
          "data": {
            "text/html": [
              "<div>\n",
              "<style scoped>\n",
              "    .dataframe tbody tr th:only-of-type {\n",
              "        vertical-align: middle;\n",
              "    }\n",
              "\n",
              "    .dataframe tbody tr th {\n",
              "        vertical-align: top;\n",
              "    }\n",
              "\n",
              "    .dataframe thead th {\n",
              "        text-align: right;\n",
              "    }\n",
              "</style>\n",
              "<table border=\"1\" class=\"dataframe\">\n",
              "  <thead>\n",
              "    <tr style=\"text-align: right;\">\n",
              "      <th></th>\n",
              "      <th>PassengerId</th>\n",
              "      <th>Survived</th>\n",
              "      <th>Pclass</th>\n",
              "      <th>Name</th>\n",
              "      <th>Sex</th>\n",
              "      <th>Age</th>\n",
              "      <th>SibSp</th>\n",
              "      <th>Parch</th>\n",
              "      <th>Ticket</th>\n",
              "      <th>Fare</th>\n",
              "      <th>Cabin</th>\n",
              "      <th>Embarked</th>\n",
              "    </tr>\n",
              "  </thead>\n",
              "  <tbody>\n",
              "    <tr>\n",
              "      <th>0</th>\n",
              "      <td>543</td>\n",
              "      <td>0</td>\n",
              "      <td>3</td>\n",
              "      <td>Andersson, Miss. Sigrid Elisabeth</td>\n",
              "      <td>female</td>\n",
              "      <td>11.0</td>\n",
              "      <td>4</td>\n",
              "      <td>2</td>\n",
              "      <td>347082</td>\n",
              "      <td>31.275</td>\n",
              "      <td>NaN</td>\n",
              "      <td>S</td>\n",
              "    </tr>\n",
              "    <tr>\n",
              "      <th>1</th>\n",
              "      <td>544</td>\n",
              "      <td>1</td>\n",
              "      <td>2</td>\n",
              "      <td>Beane, Mr. Edward</td>\n",
              "      <td>male</td>\n",
              "      <td>32.0</td>\n",
              "      <td>1</td>\n",
              "      <td>0</td>\n",
              "      <td>2908</td>\n",
              "      <td>26.000</td>\n",
              "      <td>NaN</td>\n",
              "      <td>S</td>\n",
              "    </tr>\n",
              "    <tr>\n",
              "      <th>2</th>\n",
              "      <td>545</td>\n",
              "      <td>0</td>\n",
              "      <td>1</td>\n",
              "      <td>Douglas, Mr. Walter Donald</td>\n",
              "      <td>male</td>\n",
              "      <td>50.0</td>\n",
              "      <td>1</td>\n",
              "      <td>0</td>\n",
              "      <td>PC 17761</td>\n",
              "      <td>106.425</td>\n",
              "      <td>C86</td>\n",
              "      <td>C</td>\n",
              "    </tr>\n",
              "    <tr>\n",
              "      <th>3</th>\n",
              "      <td>546</td>\n",
              "      <td>0</td>\n",
              "      <td>1</td>\n",
              "      <td>Nicholson, Mr. Arthur Ernest</td>\n",
              "      <td>male</td>\n",
              "      <td>64.0</td>\n",
              "      <td>0</td>\n",
              "      <td>0</td>\n",
              "      <td>693</td>\n",
              "      <td>26.000</td>\n",
              "      <td>NaN</td>\n",
              "      <td>S</td>\n",
              "    </tr>\n",
              "    <tr>\n",
              "      <th>4</th>\n",
              "      <td>547</td>\n",
              "      <td>1</td>\n",
              "      <td>2</td>\n",
              "      <td>Beane, Mrs. Edward (Ethel Clarke)</td>\n",
              "      <td>female</td>\n",
              "      <td>19.0</td>\n",
              "      <td>1</td>\n",
              "      <td>0</td>\n",
              "      <td>2908</td>\n",
              "      <td>26.000</td>\n",
              "      <td>NaN</td>\n",
              "      <td>S</td>\n",
              "    </tr>\n",
              "  </tbody>\n",
              "</table>\n",
              "</div>"
            ],
            "text/plain": [
              "   PassengerId  Survived  Pclass                               Name     Sex  \\\n",
              "0          543         0       3  Andersson, Miss. Sigrid Elisabeth  female   \n",
              "1          544         1       2                  Beane, Mr. Edward    male   \n",
              "2          545         0       1         Douglas, Mr. Walter Donald    male   \n",
              "3          546         0       1       Nicholson, Mr. Arthur Ernest    male   \n",
              "4          547         1       2  Beane, Mrs. Edward (Ethel Clarke)  female   \n",
              "\n",
              "    Age  SibSp  Parch    Ticket     Fare Cabin Embarked  \n",
              "0  11.0      4      2    347082   31.275   NaN        S  \n",
              "1  32.0      1      0      2908   26.000   NaN        S  \n",
              "2  50.0      1      0  PC 17761  106.425   C86        C  \n",
              "3  64.0      0      0       693   26.000   NaN        S  \n",
              "4  19.0      1      0      2908   26.000   NaN        S  "
            ]
          },
          "metadata": {
            "tags": []
          },
          "execution_count": 12
        }
      ]
    },
    {
      "metadata": {
        "trusted": true,
        "scrolled": true,
        "id": "A4u7V28Wsk_i",
        "colab_type": "code",
        "colab": {},
        "outputId": "26d5ae4d-1f9c-42a7-f6eb-55d6d233edbc"
      },
      "cell_type": "code",
      "source": [
        "df.tail()"
      ],
      "execution_count": 0,
      "outputs": [
        {
          "output_type": "execute_result",
          "data": {
            "text/html": [
              "<div>\n",
              "<style scoped>\n",
              "    .dataframe tbody tr th:only-of-type {\n",
              "        vertical-align: middle;\n",
              "    }\n",
              "\n",
              "    .dataframe tbody tr th {\n",
              "        vertical-align: top;\n",
              "    }\n",
              "\n",
              "    .dataframe thead th {\n",
              "        text-align: right;\n",
              "    }\n",
              "</style>\n",
              "<table border=\"1\" class=\"dataframe\">\n",
              "  <thead>\n",
              "    <tr style=\"text-align: right;\">\n",
              "      <th></th>\n",
              "      <th>0</th>\n",
              "      <th>1</th>\n",
              "      <th>2</th>\n",
              "    </tr>\n",
              "  </thead>\n",
              "  <tbody>\n",
              "    <tr>\n",
              "      <th>0</th>\n",
              "      <td>apples</td>\n",
              "      <td>bananas</td>\n",
              "      <td>oranges</td>\n",
              "    </tr>\n",
              "    <tr>\n",
              "      <th>1</th>\n",
              "      <td>a</td>\n",
              "      <td>1</td>\n",
              "      <td>z</td>\n",
              "    </tr>\n",
              "    <tr>\n",
              "      <th>2</th>\n",
              "      <td>1</td>\n",
              "      <td>2</td>\n",
              "      <td>3</td>\n",
              "    </tr>\n",
              "  </tbody>\n",
              "</table>\n",
              "</div>"
            ],
            "text/plain": [
              "        0        1        2\n",
              "0  apples  bananas  oranges\n",
              "1       a        1        z\n",
              "2       1        2        3"
            ]
          },
          "metadata": {
            "tags": []
          },
          "execution_count": 4
        }
      ]
    },
    {
      "metadata": {
        "trusted": true,
        "id": "0pkWoLiwsk_r",
        "colab_type": "code",
        "colab": {}
      },
      "cell_type": "code",
      "source": [
        ""
      ],
      "execution_count": 0,
      "outputs": []
    },
    {
      "metadata": {
        "trusted": true,
        "id": "DUAgFG5Lsk_y",
        "colab_type": "code",
        "colab": {},
        "outputId": "4bdf85ec-f6e1-4d3f-d967-bb96a291f27c"
      },
      "cell_type": "code",
      "source": [
        "#14.\tGet the first row, third column and last element in the dataframe.\n",
        "#first row\n",
        "df.iloc[0,:]\n",
        "y\n",
        "#third columny\n",
        "df.iloc[:,2]\n",
        "\n",
        "# last element\n",
        "df.iloc[-1,-1]   # -1 gives the last element in Python. This doesn't work in R :("
      ],
      "execution_count": 0,
      "outputs": [
        {
          "output_type": "error",
          "ename": "NameError",
          "evalue": "name 'y' is not defined",
          "traceback": [
            "\u001b[0;31m---------------------------------------------------------------------------\u001b[0m",
            "\u001b[0;31mNameError\u001b[0m                                 Traceback (most recent call last)",
            "\u001b[0;32m<ipython-input-5-52a3e9563c2f>\u001b[0m in \u001b[0;36m<module>\u001b[0;34m\u001b[0m\n\u001b[1;32m      2\u001b[0m \u001b[0;31m#first row\u001b[0m\u001b[0;34m\u001b[0m\u001b[0;34m\u001b[0m\u001b[0m\n\u001b[1;32m      3\u001b[0m \u001b[0mdf\u001b[0m\u001b[0;34m.\u001b[0m\u001b[0miloc\u001b[0m\u001b[0;34m[\u001b[0m\u001b[0;36m0\u001b[0m\u001b[0;34m,\u001b[0m\u001b[0;34m:\u001b[0m\u001b[0;34m]\u001b[0m\u001b[0;34m\u001b[0m\u001b[0m\n\u001b[0;32m----> 4\u001b[0;31m \u001b[0my\u001b[0m\u001b[0;34m\u001b[0m\u001b[0m\n\u001b[0m\u001b[1;32m      5\u001b[0m \u001b[0;31m#third columny\u001b[0m\u001b[0;34m\u001b[0m\u001b[0;34m\u001b[0m\u001b[0m\n\u001b[1;32m      6\u001b[0m \u001b[0mdf\u001b[0m\u001b[0;34m.\u001b[0m\u001b[0miloc\u001b[0m\u001b[0;34m[\u001b[0m\u001b[0;34m:\u001b[0m\u001b[0;34m,\u001b[0m\u001b[0;36m2\u001b[0m\u001b[0;34m]\u001b[0m\u001b[0;34m\u001b[0m\u001b[0m\n",
            "\u001b[0;31mNameError\u001b[0m: name 'y' is not defined"
          ]
        }
      ]
    },
    {
      "metadata": {
        "trusted": true,
        "id": "rDqqU3twsk_5",
        "colab_type": "code",
        "colab": {}
      },
      "cell_type": "code",
      "source": [
        ""
      ],
      "execution_count": 0,
      "outputs": []
    }
  ]
}
