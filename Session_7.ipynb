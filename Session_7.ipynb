{
  "nbformat": 4,
  "nbformat_minor": 0,
  "metadata": {
    "colab": {
      "name": "Session 7.ipynb",
      "version": "0.3.2",
      "provenance": [],
      "collapsed_sections": [],
      "include_colab_link": true
    },
    "kernelspec": {
      "name": "python3",
      "display_name": "Python 3"
    }
  },
  "cells": [
    {
      "cell_type": "markdown",
      "metadata": {
        "id": "view-in-github",
        "colab_type": "text"
      },
      "source": [
        "<a href=\"https://colab.research.google.com/github/danielosullivan2007/Teaching/blob/master/Session_7.ipynb\" target=\"_parent\"><img src=\"https://colab.research.google.com/assets/colab-badge.svg\" alt=\"Open In Colab\"/></a>"
      ]
    },
    {
      "metadata": {
        "id": "uyKTDjmN6J_r",
        "colab_type": "code",
        "colab": {}
      },
      "cell_type": "code",
      "source": [
        "import pandas as pd\n",
        "import seaborn as sns\n",
        "import matplotlib.pyplot as plt\n",
        "import re\n",
        "import numpy as np"
      ],
      "execution_count": 0,
      "outputs": []
    },
    {
      "metadata": {
        "id": "NMmc7rAh6CCx",
        "colab_type": "code",
        "colab": {}
      },
      "cell_type": "code",
      "source": [
        "url = \"https://files.digital.nhs.uk/12/2589F2/MHSDS%20Monthly_File_Nov_2018_Final.csv\"\n",
        "df = pd.read_csv(url)"
      ],
      "execution_count": 0,
      "outputs": []
    },
    {
      "metadata": {
        "id": "C-5MdnFl6R6R",
        "colab_type": "code",
        "colab": {}
      },
      "cell_type": "code",
      "source": [
        "df.head()\n",
        "cols = list(df.columns)\n",
        "metrics = cols[7:]\n",
        "split = np.asarray([i.split(\" - \") for i in metrics])\n",
        "\n",
        "\n",
        "short = list(split[:,0])\n",
        "\n",
        "rename_dict = dict(zip(metrics, short))\n",
        "df = df.rename(columns = rename_dict)"
      ],
      "execution_count": 0,
      "outputs": []
    },
    {
      "metadata": {
        "id": "U8F1_CbR7kNX",
        "colab_type": "code",
        "colab": {}
      },
      "cell_type": "code",
      "source": [
        "df.BREAKDOWN.unique()"
      ],
      "execution_count": 0,
      "outputs": []
    },
    {
      "metadata": {
        "id": "Kj_3MClb7vK0",
        "colab_type": "code",
        "colab": {}
      },
      "cell_type": "code",
      "source": [
        "df = df[df['BREAKDOWN'] == 'Provider']"
      ],
      "execution_count": 0,
      "outputs": []
    },
    {
      "metadata": {
        "id": "8iWv7qmj8CaG",
        "colab_type": "code",
        "colab": {}
      },
      "cell_type": "code",
      "source": [
        "to_analyse = df.loc[:,['PRIMARY_LEVEL', 'PRIMARY_LEVEL_DESCRIPTION', 'MH01']]\n",
        "to_analyse.MH01 = [i.replace(\"*\",\"0\") for i in to_analyse.MH01]\n",
        "to_analyse.MH01 = pd.to_numeric(to_analyse.MH01)\n"
      ],
      "execution_count": 0,
      "outputs": []
    },
    {
      "metadata": {
        "id": "d2OmKECEFMWv",
        "colab_type": "code",
        "outputId": "d1edfe26-7d59-4794-ec0c-108d45ffe4c6",
        "colab": {
          "base_uri": "https://localhost:8080/",
          "height": 204
        }
      },
      "cell_type": "code",
      "source": [
        "trust_mask = to_analyse['PRIMARY_LEVEL_DESCRIPTION'].str.contains(\"TRUST\")\n",
        "council_mask = to_analyse['PRIMARY_LEVEL_DESCRIPTION'].str.contains(\"COUNCIL\")\n",
        "\n",
        "df_a = to_analyse[trust_mask].reset_index(drop=True)\n",
        "df_b = to_analyse[council_mask].reset_index(drop=True)\n",
        "df_c = to_analyse[~council_mask&~trust_mask].reset_index(drop=True)\n",
        "\n",
        "\n",
        "trust_median = np.median(df_a.MH01.dropna())\n",
        "council_median =  np.median(df_b.MH01.dropna())\n",
        "other_median = np.median(df_c.MH01.dropna())\n",
        "\n",
        "med = np.median(np.asarray(to_analyse.MH01.dropna()))\n",
        "av = np.mean(np.asarray(to_analyse.MH01.dropna()))\n",
        "med\n",
        "\n",
        "trust_median\n",
        "council_median\n",
        "other_median\n",
        "\n",
        "to_analyse.head()"
      ],
      "execution_count": 21,
      "outputs": [
        {
          "output_type": "execute_result",
          "data": {
            "text/html": [
              "<div>\n",
              "<style scoped>\n",
              "    .dataframe tbody tr th:only-of-type {\n",
              "        vertical-align: middle;\n",
              "    }\n",
              "\n",
              "    .dataframe tbody tr th {\n",
              "        vertical-align: top;\n",
              "    }\n",
              "\n",
              "    .dataframe thead th {\n",
              "        text-align: right;\n",
              "    }\n",
              "</style>\n",
              "<table border=\"1\" class=\"dataframe\">\n",
              "  <thead>\n",
              "    <tr style=\"text-align: right;\">\n",
              "      <th></th>\n",
              "      <th>PRIMARY_LEVEL</th>\n",
              "      <th>PRIMARY_LEVEL_DESCRIPTION</th>\n",
              "      <th>MH01</th>\n",
              "    </tr>\n",
              "  </thead>\n",
              "  <tbody>\n",
              "    <tr>\n",
              "      <th>197</th>\n",
              "      <td>506</td>\n",
              "      <td>DERBYSHIRE COUNTY COUNCIL</td>\n",
              "      <td>20</td>\n",
              "    </tr>\n",
              "    <tr>\n",
              "      <th>198</th>\n",
              "      <td>512</td>\n",
              "      <td>NOTTINGHAM CITY COUNCIL</td>\n",
              "      <td>1255</td>\n",
              "    </tr>\n",
              "    <tr>\n",
              "      <th>199</th>\n",
              "      <td>731</td>\n",
              "      <td>LONDON BOROUGH OF NEWHAM COUNCIL</td>\n",
              "      <td>200</td>\n",
              "    </tr>\n",
              "    <tr>\n",
              "      <th>200</th>\n",
              "      <td>817</td>\n",
              "      <td>WILTSHIRE COUNCIL</td>\n",
              "      <td>750</td>\n",
              "    </tr>\n",
              "    <tr>\n",
              "      <th>201</th>\n",
              "      <td>819</td>\n",
              "      <td>SWINDON BOROUGH COUNCIL (UNITARY)</td>\n",
              "      <td>1255</td>\n",
              "    </tr>\n",
              "  </tbody>\n",
              "</table>\n",
              "</div>"
            ],
            "text/plain": [
              "    PRIMARY_LEVEL          PRIMARY_LEVEL_DESCRIPTION  MH01\n",
              "197           506          DERBYSHIRE COUNTY COUNCIL    20\n",
              "198           512            NOTTINGHAM CITY COUNCIL  1255\n",
              "199           731   LONDON BOROUGH OF NEWHAM COUNCIL   200\n",
              "200           817                  WILTSHIRE COUNCIL   750\n",
              "201           819  SWINDON BOROUGH COUNCIL (UNITARY)  1255"
            ]
          },
          "metadata": {
            "tags": []
          },
          "execution_count": 21
        }
      ]
    },
    {
      "metadata": {
        "id": "nsFhF0lv9PnS",
        "colab_type": "code",
        "outputId": "ed4d725d-ca02-4e93-998c-3c910904665b",
        "colab": {
          "base_uri": "https://localhost:8080/",
          "height": 582
        }
      },
      "cell_type": "code",
      "source": [
        "#fig, ax = plt.subplots()\n",
        "#ax.hist(df_a.MH01, alpha = 0.5, bins = 100)\n",
        "#plt.hist(df_b.MH01, alpha = 0.5, color ='r')\n",
        "#plt.hist(df_c.MH01, alpha = 0.5, color ='r')\n",
        "\n",
        "to_plot = pd.DataFrame([df_a.MH01,df_b.MH01, df_c.MH01], index=['Trusts', 'Councils', 'Others']).T\n",
        "to_plot = pd.melt(to_plot)\n",
        "to_plot = to_plot.rename(columns = {'variable':'Type'})\n",
        "plt.style.use('seaborn-white')\n",
        "import matplotlib.ticker as ticker \n",
        "\n",
        "\n",
        "\n",
        "\n",
        "ax = sns.boxplot('Type', 'value', data = to_plot, hue = 'Type')\n",
        "ax.get_yaxis().set_major_formatter(ticker.FuncFormatter(lambda x, p: format(int(x), ',')))\n",
        "plt.ylabel('Count')\n",
        "\n",
        "to_plot.head()"
      ],
      "execution_count": 22,
      "outputs": [
        {
          "output_type": "stream",
          "text": [
            "/usr/local/lib/python3.6/dist-packages/seaborn/categorical.py:482: FutureWarning: remove_na is deprecated and is a private function. Do not use.\n",
            "  box_data = remove_na(group_data[hue_mask])\n"
          ],
          "name": "stderr"
        },
        {
          "output_type": "execute_result",
          "data": {
            "text/html": [
              "<div>\n",
              "<style scoped>\n",
              "    .dataframe tbody tr th:only-of-type {\n",
              "        vertical-align: middle;\n",
              "    }\n",
              "\n",
              "    .dataframe tbody tr th {\n",
              "        vertical-align: top;\n",
              "    }\n",
              "\n",
              "    .dataframe thead th {\n",
              "        text-align: right;\n",
              "    }\n",
              "</style>\n",
              "<table border=\"1\" class=\"dataframe\">\n",
              "  <thead>\n",
              "    <tr style=\"text-align: right;\">\n",
              "      <th></th>\n",
              "      <th>Type</th>\n",
              "      <th>value</th>\n",
              "    </tr>\n",
              "  </thead>\n",
              "  <tbody>\n",
              "    <tr>\n",
              "      <th>0</th>\n",
              "      <td>Trusts</td>\n",
              "      <td>1550.0</td>\n",
              "    </tr>\n",
              "    <tr>\n",
              "      <th>1</th>\n",
              "      <td>Trusts</td>\n",
              "      <td>8690.0</td>\n",
              "    </tr>\n",
              "    <tr>\n",
              "      <th>2</th>\n",
              "      <td>Trusts</td>\n",
              "      <td>8925.0</td>\n",
              "    </tr>\n",
              "    <tr>\n",
              "      <th>3</th>\n",
              "      <td>Trusts</td>\n",
              "      <td>6435.0</td>\n",
              "    </tr>\n",
              "    <tr>\n",
              "      <th>4</th>\n",
              "      <td>Trusts</td>\n",
              "      <td>3565.0</td>\n",
              "    </tr>\n",
              "  </tbody>\n",
              "</table>\n",
              "</div>"
            ],
            "text/plain": [
              "     Type   value\n",
              "0  Trusts  1550.0\n",
              "1  Trusts  8690.0\n",
              "2  Trusts  8925.0\n",
              "3  Trusts  6435.0\n",
              "4  Trusts  3565.0"
            ]
          },
          "metadata": {
            "tags": []
          },
          "execution_count": 22
        },
        {
          "output_type": "display_data",
          "data": {
            "image/png": "[encoded data removed]",
            "text/plain": [
              "<Figure size 576x396 with 1 Axes>"
            ]
          },
          "metadata": {
            "tags": []
          }
        }
      ]
    }
  ]
}